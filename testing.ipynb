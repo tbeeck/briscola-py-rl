{
 "cells": [
  {
   "cell_type": "code",
   "execution_count": 1,
   "metadata": {},
   "outputs": [],
   "source": [
    "from __future__ import annotations\n",
    "\n",
    "import glob\n",
    "import os\n",
    "import time\n",
    "\n",
    "from stable_baselines3 import PPO\n",
    "from stable_baselines3.ppo import CnnPolicy, MlpPolicy\n",
    "\n",
    "from pettingzoo.test import api_test\n",
    "from lib.briscola_env.briscola_env import BriscolaEnv"
   ]
  },
  {
   "cell_type": "code",
   "execution_count": 2,
   "metadata": {},
   "outputs": [
    {
     "name": "stdout",
     "output_type": "stream",
     "text": [
      "Starting API test\n",
      "rewards {'player_0': 2, 'player_1': 1, 'player_2': 3, 'player_3': 0}\n"
     ]
    },
    {
     "name": "stderr",
     "output_type": "stream",
     "text": [
      "/home/tim/src/briscola-py/.venv/lib/python3.11/site-packages/pettingzoo/test/api_test.py:242: UserWarning: Observation space for each agent probably should be gymnasium.spaces.box or gymnasium.spaces.discrete\n",
      "  warnings.warn(\n",
      "/home/tim/src/briscola-py/.venv/lib/python3.11/site-packages/pettingzoo/test/api_test.py:140: UserWarning: Observation is not a NumPy array\n",
      "  warnings.warn(\"Observation is not a NumPy array\")\n"
     ]
    },
    {
     "ename": "AssertionError",
     "evalue": "reward returned by last is not the accumulated rewards in its rewards dict",
     "output_type": "error",
     "traceback": [
      "\u001b[31m---------------------------------------------------------------------------\u001b[39m",
      "\u001b[31mAssertionError\u001b[39m                            Traceback (most recent call last)",
      "\u001b[36mCell\u001b[39m\u001b[36m \u001b[39m\u001b[32mIn[2]\u001b[39m\u001b[32m, line 3\u001b[39m\n\u001b[32m      1\u001b[39m env = BriscolaEnv()\n\u001b[32m----> \u001b[39m\u001b[32m3\u001b[39m \u001b[43mapi_test\u001b[49m\u001b[43m(\u001b[49m\u001b[43menv\u001b[49m\u001b[43m,\u001b[49m\u001b[43m \u001b[49m\u001b[43mnum_cycles\u001b[49m\u001b[43m=\u001b[49m\u001b[32;43m1_000_000\u001b[39;49m\u001b[43m)\u001b[49m\n",
      "\u001b[36mFile \u001b[39m\u001b[32m~/src/briscola-py/.venv/lib/python3.11/site-packages/pettingzoo/test/api_test.py:625\u001b[39m, in \u001b[36mapi_test\u001b[39m\u001b[34m(env, num_cycles, verbose_progress)\u001b[39m\n\u001b[32m    621\u001b[39m test_observation_action_spaces(env, agent_0)\n\u001b[32m    623\u001b[39m progress_report(\u001b[33m\"\u001b[39m\u001b[33mFinished test_observation_action_spaces\u001b[39m\u001b[33m\"\u001b[39m)\n\u001b[32m--> \u001b[39m\u001b[32m625\u001b[39m \u001b[43mplay_test\u001b[49m\u001b[43m(\u001b[49m\u001b[43menv\u001b[49m\u001b[43m,\u001b[49m\u001b[43m \u001b[49m\u001b[43mobservation_0\u001b[49m\u001b[43m,\u001b[49m\u001b[43m \u001b[49m\u001b[43mnum_cycles\u001b[49m\u001b[43m)\u001b[49m\n\u001b[32m    627\u001b[39m progress_report(\u001b[33m\"\u001b[39m\u001b[33mFinished play test\u001b[39m\u001b[33m\"\u001b[39m)\n\u001b[32m    629\u001b[39m \u001b[38;5;28;01massert\u001b[39;00m \u001b[38;5;28misinstance\u001b[39m(env.rewards, \u001b[38;5;28mdict\u001b[39m), \u001b[33m\"\u001b[39m\u001b[33mrewards must be a dict\u001b[39m\u001b[33m\"\u001b[39m\n",
      "\u001b[36mFile \u001b[39m\u001b[32m~/src/briscola-py/.venv/lib/python3.11/site-packages/pettingzoo/test/api_test.py:474\u001b[39m, in \u001b[36mplay_test\u001b[39m\u001b[34m(env, observation_0, num_cycles)\u001b[39m\n\u001b[32m    470\u001b[39m     live_agents.remove(agent)\n\u001b[32m    471\u001b[39m     has_finished.add(agent)\n\u001b[32m    473\u001b[39m \u001b[38;5;28;01massert\u001b[39;00m (\n\u001b[32m--> \u001b[39m\u001b[32m474\u001b[39m     accumulated_rewards[agent] == reward\n\u001b[32m    475\u001b[39m ), \u001b[33m\"\u001b[39m\u001b[33mreward returned by last is not the accumulated rewards in its rewards dict\u001b[39m\u001b[33m\"\u001b[39m\n\u001b[32m    476\u001b[39m accumulated_rewards[agent] = \u001b[32m0\u001b[39m\n\u001b[32m    478\u001b[39m env.step(action)\n",
      "\u001b[31mAssertionError\u001b[39m: reward returned by last is not the accumulated rewards in its rewards dict"
     ]
    }
   ],
   "source": [
    "env = BriscolaEnv()\n",
    "\n",
    "api_test(env, num_cycles=1_000_000)\n"
   ]
  }
 ],
 "metadata": {
  "kernelspec": {
   "display_name": ".venv",
   "language": "python",
   "name": "python3"
  },
  "language_info": {
   "codemirror_mode": {
    "name": "ipython",
    "version": 3
   },
   "file_extension": ".py",
   "mimetype": "text/x-python",
   "name": "python",
   "nbconvert_exporter": "python",
   "pygments_lexer": "ipython3",
   "version": "3.11.10"
  }
 },
 "nbformat": 4,
 "nbformat_minor": 2
}
