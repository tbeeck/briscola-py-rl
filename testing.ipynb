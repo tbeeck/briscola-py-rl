{
 "cells": [
  {
   "cell_type": "code",
   "execution_count": 1,
   "metadata": {},
   "outputs": [],
   "source": [
    "from __future__ import annotations\n",
    "\n",
    "import glob\n",
    "import os\n",
    "import time\n",
    "\n",
    "from stable_baselines3 import PPO\n",
    "from stable_baselines3.ppo import CnnPolicy, MlpPolicy\n",
    "from pettingzoo.test import api_test\n",
    "from lib.briscola_env.briscola_env import BriscolaEnv\n",
    "\n",
    "from pettingzoo.classic import chess_v6"
   ]
  },
  {
   "cell_type": "code",
   "execution_count": 2,
   "metadata": {},
   "outputs": [
    {
     "name": "stdout",
     "output_type": "stream",
     "text": [
      "Starting API test\n",
      "Passed API test\n",
      "Starting API test\n",
      "{'player_0': True, 'player_1': True, 'player_2': True, 'player_3': True} {'player_0': 3, 'player_1': 1, 'player_2': 0, 'player_3': 2}\n"
     ]
    },
    {
     "name": "stderr",
     "output_type": "stream",
     "text": [
      "/home/tim/src/briscola-py/.venv/lib/python3.11/site-packages/pettingzoo/test/api_test.py:242: UserWarning: Observation space for each agent probably should be gymnasium.spaces.box or gymnasium.spaces.discrete\n",
      "  warnings.warn(\n",
      "/home/tim/src/briscola-py/.venv/lib/python3.11/site-packages/pettingzoo/test/api_test.py:140: UserWarning: Observation is not a NumPy array\n",
      "  warnings.warn(\"Observation is not a NumPy array\")\n"
     ]
    },
    {
     "ename": "Exception",
     "evalue": "card not playable: (knight, cups)",
     "output_type": "error",
     "traceback": [
      "\u001b[31m---------------------------------------------------------------------------\u001b[39m",
      "\u001b[31mException\u001b[39m                                 Traceback (most recent call last)",
      "\u001b[36mCell\u001b[39m\u001b[36m \u001b[39m\u001b[32mIn[2]\u001b[39m\u001b[32m, line 5\u001b[39m\n\u001b[32m      2\u001b[39m api_test(chess_env)\n\u001b[32m      4\u001b[39m env = BriscolaEnv()\n\u001b[32m----> \u001b[39m\u001b[32m5\u001b[39m \u001b[43mapi_test\u001b[49m\u001b[43m(\u001b[49m\u001b[43menv\u001b[49m\u001b[43m,\u001b[49m\u001b[43m \u001b[49m\u001b[43mnum_cycles\u001b[49m\u001b[43m=\u001b[49m\u001b[32;43m1000\u001b[39;49m\u001b[43m)\u001b[49m\n",
      "\u001b[36mFile \u001b[39m\u001b[32m~/src/briscola-py/.venv/lib/python3.11/site-packages/pettingzoo/test/api_test.py:644\u001b[39m, in \u001b[36mapi_test\u001b[39m\u001b[34m(env, num_cycles, verbose_progress)\u001b[39m\n\u001b[32m    634\u001b[39m \u001b[38;5;28;01massert\u001b[39;00m (\n\u001b[32m    635\u001b[39m     \u001b[38;5;28mlen\u001b[39m(env.rewards)\n\u001b[32m    636\u001b[39m     == \u001b[38;5;28mlen\u001b[39m(env.terminations)\n\u001b[32m   (...)\u001b[39m\u001b[32m    639\u001b[39m     == \u001b[38;5;28mlen\u001b[39m(env.agents)\n\u001b[32m    640\u001b[39m ), \u001b[33m\"\u001b[39m\u001b[33mrewards, terminations, truncations, infos and agents must have the same length\u001b[39m\u001b[33m\"\u001b[39m\n\u001b[32m    642\u001b[39m test_rewards_terminations_truncations(env, agent_0)\n\u001b[32m--> \u001b[39m\u001b[32m644\u001b[39m \u001b[43mtest_action_flexibility\u001b[49m\u001b[43m(\u001b[49m\u001b[43menv\u001b[49m\u001b[43m)\u001b[49m\n\u001b[32m    646\u001b[39m progress_report(\u001b[33m\"\u001b[39m\u001b[33mFinished test_rewards_terminations_truncations\u001b[39m\u001b[33m\"\u001b[39m)\n\u001b[32m    648\u001b[39m \u001b[38;5;66;03m# checks unwrapped attribute\u001b[39;00m\n",
      "\u001b[36mFile \u001b[39m\u001b[32m~/src/briscola-py/.venv/lib/python3.11/site-packages/pettingzoo/test/api_test.py:572\u001b[39m, in \u001b[36mtest_action_flexibility\u001b[39m\u001b[34m(env)\u001b[39m\n\u001b[32m    570\u001b[39m     env.step(action)\n\u001b[32m    571\u001b[39m     env.reset(seed=\u001b[32m0\u001b[39m)\n\u001b[32m--> \u001b[39m\u001b[32m572\u001b[39m     \u001b[43menv\u001b[49m\u001b[43m.\u001b[49m\u001b[43mstep\u001b[49m\u001b[43m(\u001b[49m\u001b[43mnp\u001b[49m\u001b[43m.\u001b[49m\u001b[43mint32\u001b[49m\u001b[43m(\u001b[49m\u001b[43maction\u001b[49m\u001b[43m)\u001b[49m\u001b[43m)\u001b[49m\n\u001b[32m    573\u001b[39m \u001b[38;5;28;01melif\u001b[39;00m \u001b[38;5;28misinstance\u001b[39m(action_space, gymnasium.spaces.Box):\n\u001b[32m    574\u001b[39m     env.step(np.zeros_like(action_space.low))\n",
      "\u001b[36mFile \u001b[39m\u001b[32m~/src/briscola-py/lib/briscola_env/briscola_env.py:76\u001b[39m, in \u001b[36mBriscolaEnv.step\u001b[39m\u001b[34m(self, action)\u001b[39m\n\u001b[32m     74\u001b[39m     \u001b[38;5;28;01mreturn\u001b[39;00m \u001b[38;5;28mself\u001b[39m._was_dead_step(action)\n\u001b[32m     75\u001b[39m played_card = card_reverse_embedding(action)\n\u001b[32m---> \u001b[39m\u001b[32m76\u001b[39m \u001b[38;5;28;43mself\u001b[39;49m\u001b[43m.\u001b[49m\u001b[43mgame\u001b[49m\u001b[43m.\u001b[49m\u001b[43mplay\u001b[49m\u001b[43m(\u001b[49m\u001b[43mplayed_card\u001b[49m\u001b[43m)\u001b[49m\n\u001b[32m     77\u001b[39m \u001b[38;5;28;01mif\u001b[39;00m \u001b[38;5;28mself\u001b[39m.game.should_score_trick():\n\u001b[32m     78\u001b[39m     \u001b[38;5;28mself\u001b[39m.game.score_trick()\n",
      "\u001b[36mFile \u001b[39m\u001b[32m~/src/briscola-py/lib/briscola/game.py:34\u001b[39m, in \u001b[36mBriscolaGame.play\u001b[39m\u001b[34m(self, card)\u001b[39m\n\u001b[32m     31\u001b[39m     card = \u001b[38;5;28mself\u001b[39m.players[\u001b[38;5;28mself\u001b[39m.action_on].hand[card]\n\u001b[32m     33\u001b[39m \u001b[38;5;28;01mif\u001b[39;00m \u001b[38;5;129;01mnot\u001b[39;00m \u001b[38;5;28mself\u001b[39m.playable(card):\n\u001b[32m---> \u001b[39m\u001b[32m34\u001b[39m     \u001b[38;5;28;01mraise\u001b[39;00m \u001b[38;5;167;01mException\u001b[39;00m(\u001b[33mf\u001b[39m\u001b[33m\"\u001b[39m\u001b[33mcard not playable: \u001b[39m\u001b[38;5;132;01m{\u001b[39;00mcard\u001b[38;5;132;01m}\u001b[39;00m\u001b[33m\"\u001b[39m)\n\u001b[32m     36\u001b[39m \u001b[38;5;28mself\u001b[39m.players[\u001b[38;5;28mself\u001b[39m.action_on].remove_from_hand(card)\n\u001b[32m     37\u001b[39m \u001b[38;5;28mself\u001b[39m.trick.append(card)\n",
      "\u001b[31mException\u001b[39m: card not playable: (knight, cups)"
     ]
    }
   ],
   "source": [
    "chess_env = chess_v6.env()\n",
    "api_test(chess_env)\n",
    "\n",
    "env = BriscolaEnv()\n",
    "api_test(env, num_cycles=1000)\n"
   ]
  }
 ],
 "metadata": {
  "kernelspec": {
   "display_name": ".venv",
   "language": "python",
   "name": "python3"
  },
  "language_info": {
   "codemirror_mode": {
    "name": "ipython",
    "version": 3
   },
   "file_extension": ".py",
   "mimetype": "text/x-python",
   "name": "python",
   "nbconvert_exporter": "python",
   "pygments_lexer": "ipython3",
   "version": "3.11.10"
  }
 },
 "nbformat": 4,
 "nbformat_minor": 2
}
