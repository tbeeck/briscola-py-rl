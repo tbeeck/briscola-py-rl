{
 "cells": [
  {
   "cell_type": "code",
   "execution_count": 1,
   "metadata": {},
   "outputs": [],
   "source": [
    "from __future__ import annotations\n",
    "\n",
    "import glob\n",
    "import os\n",
    "import time\n",
    "\n",
    "from stable_baselines3 import PPO\n",
    "from stable_baselines3.ppo import CnnPolicy, MlpPolicy\n",
    "\n",
    "from pettingzoo.test import api_test\n",
    "from lib.briscola_env.briscola_env import BriscolaEnv"
   ]
  },
  {
   "cell_type": "code",
   "execution_count": 2,
   "metadata": {},
   "outputs": [
    {
     "name": "stdout",
     "output_type": "stream",
     "text": [
      "Starting API test\n"
     ]
    },
    {
     "name": "stderr",
     "output_type": "stream",
     "text": [
      "/home/tim/src/briscola-py/.venv/lib/python3.11/site-packages/pettingzoo/test/api_test.py:586: UserWarning: This environment does not have possible_agents defined.\n",
      "This is not a required part 'of the API as environments with procedurally\n",
      "generated agents cannot always have this property defined. However, this is\n",
      "very uncommon and these features should be included whenever possible as all\n",
      "standard learning code requires these properties. Also not that if you do not\n",
      "have possible_agents it should also not be possible for you to expose the possible_agents\n",
      "list and observation_spaces, action_spaces dictionaries.\n",
      "  warnings.warn(missing_attr_warning.format(name=\"possible_agents\"))\n"
     ]
    },
    {
     "ename": "AttributeError",
     "evalue": "'BriscolaEnv' object has no attribute 'terminations'",
     "output_type": "error",
     "traceback": [
      "\u001b[31m---------------------------------------------------------------------------\u001b[39m",
      "\u001b[31mAttributeError\u001b[39m                            Traceback (most recent call last)",
      "\u001b[36mCell\u001b[39m\u001b[36m \u001b[39m\u001b[32mIn[2]\u001b[39m\u001b[32m, line 3\u001b[39m\n\u001b[32m      1\u001b[39m env = BriscolaEnv()\n\u001b[32m----> \u001b[39m\u001b[32m3\u001b[39m \u001b[43mapi_test\u001b[49m\u001b[43m(\u001b[49m\u001b[43menv\u001b[49m\u001b[43m,\u001b[49m\u001b[43m \u001b[49m\u001b[43mnum_cycles\u001b[49m\u001b[43m=\u001b[49m\u001b[32;43m1_000_000\u001b[39;49m\u001b[43m)\u001b[49m\n",
      "\u001b[36mFile \u001b[39m\u001b[32m~/src/briscola-py/.venv/lib/python3.11/site-packages/pettingzoo/test/api_test.py:597\u001b[39m, in \u001b[36mapi_test\u001b[39m\u001b[34m(env, num_cycles, verbose_progress)\u001b[39m\n\u001b[32m    591\u001b[39m \u001b[38;5;28;01massert\u001b[39;00m \u001b[38;5;28misinstance\u001b[39m(\n\u001b[32m    592\u001b[39m     env, pettingzoo.AECEnv\n\u001b[32m    593\u001b[39m ), \u001b[33m\"\u001b[39m\u001b[33mEnv must be an instance of pettingzoo.AECEnv\u001b[39m\u001b[33m\"\u001b[39m\n\u001b[32m    595\u001b[39m env.reset()\n\u001b[32m    596\u001b[39m \u001b[38;5;28;01massert\u001b[39;00m \u001b[38;5;129;01mnot\u001b[39;00m \u001b[38;5;28many\u001b[39m(\n\u001b[32m--> \u001b[39m\u001b[32m597\u001b[39m     \u001b[43menv\u001b[49m\u001b[43m.\u001b[49m\u001b[43mterminations\u001b[49m.values()\n\u001b[32m    598\u001b[39m ), \u001b[33m\"\u001b[39m\u001b[33mterminations must all be False after reset\u001b[39m\u001b[33m\"\u001b[39m\n\u001b[32m    599\u001b[39m \u001b[38;5;28;01massert\u001b[39;00m \u001b[38;5;129;01mnot\u001b[39;00m \u001b[38;5;28many\u001b[39m(\n\u001b[32m    600\u001b[39m     env.truncations.values()\n\u001b[32m    601\u001b[39m ), \u001b[33m\"\u001b[39m\u001b[33mtruncations must all be False after reset\u001b[39m\u001b[33m\"\u001b[39m\n\u001b[32m    603\u001b[39m \u001b[38;5;28;01massert\u001b[39;00m \u001b[38;5;28misinstance\u001b[39m(env.num_agents, \u001b[38;5;28mint\u001b[39m), \u001b[33m\"\u001b[39m\u001b[33mnum_agents must be an integer\u001b[39m\u001b[33m\"\u001b[39m\n",
      "\u001b[31mAttributeError\u001b[39m: 'BriscolaEnv' object has no attribute 'terminations'"
     ]
    }
   ],
   "source": [
    "env = BriscolaEnv()\n",
    "\n",
    "api_test(env, num_cycles=1_000_000)"
   ]
  }
 ],
 "metadata": {
  "kernelspec": {
   "display_name": ".venv",
   "language": "python",
   "name": "python3"
  },
  "language_info": {
   "codemirror_mode": {
    "name": "ipython",
    "version": 3
   },
   "file_extension": ".py",
   "mimetype": "text/x-python",
   "name": "python",
   "nbconvert_exporter": "python",
   "pygments_lexer": "ipython3",
   "version": "3.11.10"
  }
 },
 "nbformat": 4,
 "nbformat_minor": 2
}
