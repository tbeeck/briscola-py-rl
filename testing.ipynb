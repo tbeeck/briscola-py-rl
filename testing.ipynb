{
 "cells": [
  {
   "cell_type": "code",
   "execution_count": 1,
   "metadata": {},
   "outputs": [],
   "source": [
    "from __future__ import annotations\n",
    "\n",
    "import glob\n",
    "import os\n",
    "import time\n",
    "\n",
    "from stable_baselines3 import PPO\n",
    "from stable_baselines3.ppo import CnnPolicy, MlpPolicy\n",
    "\n",
    "from pettingzoo.test import api_test\n",
    "from lib.briscola_env.briscola_env import BriscolaEnv"
   ]
  },
  {
   "cell_type": "code",
   "execution_count": 2,
   "metadata": {},
   "outputs": [
    {
     "name": "stdout",
     "output_type": "stream",
     "text": [
      "Starting API test\n"
     ]
    },
    {
     "name": "stderr",
     "output_type": "stream",
     "text": [
      "/home/tim/src/briscola-py/.venv/lib/python3.11/site-packages/pettingzoo/test/api_test.py:140: UserWarning: Observation is not a NumPy array\n",
      "  warnings.warn(\"Observation is not a NumPy array\")\n",
      "/home/tim/src/briscola-py/.venv/lib/python3.11/site-packages/pettingzoo/test/api_test.py:253: UserWarning: Agents are recommended to have numbered string names, like player_0\n",
      "  warnings.warn(\n",
      "/home/tim/src/briscola-py/.venv/lib/python3.11/site-packages/pettingzoo/test/api_test.py:259: UserWarning: We recommend agents to be named in the format <descriptor>_<number>, like \"player_0\"\n",
      "  warnings.warn(\n"
     ]
    },
    {
     "ename": "Exception",
     "evalue": "card not playable: (5, swords)",
     "output_type": "error",
     "traceback": [
      "\u001b[31m---------------------------------------------------------------------------\u001b[39m",
      "\u001b[31mException\u001b[39m                                 Traceback (most recent call last)",
      "\u001b[36mCell\u001b[39m\u001b[36m \u001b[39m\u001b[32mIn[2]\u001b[39m\u001b[32m, line 3\u001b[39m\n\u001b[32m      1\u001b[39m env = BriscolaEnv()\n\u001b[32m----> \u001b[39m\u001b[32m3\u001b[39m \u001b[43mapi_test\u001b[49m\u001b[43m(\u001b[49m\u001b[43menv\u001b[49m\u001b[43m,\u001b[49m\u001b[43m \u001b[49m\u001b[43mnum_cycles\u001b[49m\u001b[43m=\u001b[49m\u001b[32;43m1_000_000\u001b[39;49m\u001b[43m)\u001b[49m\n",
      "\u001b[36mFile \u001b[39m\u001b[32m~/src/briscola-py/.venv/lib/python3.11/site-packages/pettingzoo/test/api_test.py:625\u001b[39m, in \u001b[36mapi_test\u001b[39m\u001b[34m(env, num_cycles, verbose_progress)\u001b[39m\n\u001b[32m    621\u001b[39m test_observation_action_spaces(env, agent_0)\n\u001b[32m    623\u001b[39m progress_report(\u001b[33m\"\u001b[39m\u001b[33mFinished test_observation_action_spaces\u001b[39m\u001b[33m\"\u001b[39m)\n\u001b[32m--> \u001b[39m\u001b[32m625\u001b[39m \u001b[43mplay_test\u001b[49m\u001b[43m(\u001b[49m\u001b[43menv\u001b[49m\u001b[43m,\u001b[49m\u001b[43m \u001b[49m\u001b[43mobservation_0\u001b[49m\u001b[43m,\u001b[49m\u001b[43m \u001b[49m\u001b[43mnum_cycles\u001b[49m\u001b[43m)\u001b[49m\n\u001b[32m    627\u001b[39m progress_report(\u001b[33m\"\u001b[39m\u001b[33mFinished play test\u001b[39m\u001b[33m\"\u001b[39m)\n\u001b[32m    629\u001b[39m \u001b[38;5;28;01massert\u001b[39;00m \u001b[38;5;28misinstance\u001b[39m(env.rewards, \u001b[38;5;28mdict\u001b[39m), \u001b[33m\"\u001b[39m\u001b[33mrewards must be a dict\u001b[39m\u001b[33m\"\u001b[39m\n",
      "\u001b[36mFile \u001b[39m\u001b[32m~/src/briscola-py/.venv/lib/python3.11/site-packages/pettingzoo/test/api_test.py:478\u001b[39m, in \u001b[36mplay_test\u001b[39m\u001b[34m(env, observation_0, num_cycles)\u001b[39m\n\u001b[32m    473\u001b[39m \u001b[38;5;28;01massert\u001b[39;00m (\n\u001b[32m    474\u001b[39m     accumulated_rewards[agent] == reward\n\u001b[32m    475\u001b[39m ), \u001b[33m\"\u001b[39m\u001b[33mreward returned by last is not the accumulated rewards in its rewards dict\u001b[39m\u001b[33m\"\u001b[39m\n\u001b[32m    476\u001b[39m accumulated_rewards[agent] = \u001b[32m0\u001b[39m\n\u001b[32m--> \u001b[39m\u001b[32m478\u001b[39m \u001b[43menv\u001b[49m\u001b[43m.\u001b[49m\u001b[43mstep\u001b[49m\u001b[43m(\u001b[49m\u001b[43maction\u001b[49m\u001b[43m)\u001b[49m\n\u001b[32m    480\u001b[39m \u001b[38;5;28;01mfor\u001b[39;00m a, rew \u001b[38;5;129;01min\u001b[39;00m env.rewards.items():\n\u001b[32m    481\u001b[39m     accumulated_rewards[a] += rew\n",
      "\u001b[36mFile \u001b[39m\u001b[32m~/src/briscola-py/lib/briscola_env/briscola_env.py:21\u001b[39m, in \u001b[36mBriscolaEnv.step\u001b[39m\u001b[34m(self, action)\u001b[39m\n\u001b[32m     19\u001b[39m \u001b[38;5;28;01mdef\u001b[39;00m\u001b[38;5;250m \u001b[39m\u001b[34mstep\u001b[39m(\u001b[38;5;28mself\u001b[39m, action):\n\u001b[32m     20\u001b[39m     played_card = card_reverse_embedding(action)\n\u001b[32m---> \u001b[39m\u001b[32m21\u001b[39m     \u001b[38;5;28;43mself\u001b[39;49m\u001b[43m.\u001b[49m\u001b[43mgame\u001b[49m\u001b[43m.\u001b[49m\u001b[43mplay\u001b[49m\u001b[43m(\u001b[49m\u001b[43mplayed_card\u001b[49m\u001b[43m)\u001b[49m\n\u001b[32m     22\u001b[39m     \u001b[38;5;28;01mif\u001b[39;00m \u001b[38;5;28mself\u001b[39m.game.should_score_trick():\n\u001b[32m     23\u001b[39m         \u001b[38;5;28mself\u001b[39m.game.score_trick()\n",
      "\u001b[36mFile \u001b[39m\u001b[32m~/src/briscola-py/lib/briscola/game.py:34\u001b[39m, in \u001b[36mBriscolaGame.play\u001b[39m\u001b[34m(self, card)\u001b[39m\n\u001b[32m     31\u001b[39m     card = \u001b[38;5;28mself\u001b[39m.players[\u001b[38;5;28mself\u001b[39m.action_on].hand[card]\n\u001b[32m     33\u001b[39m \u001b[38;5;28;01mif\u001b[39;00m \u001b[38;5;129;01mnot\u001b[39;00m \u001b[38;5;28mself\u001b[39m.playable(card):\n\u001b[32m---> \u001b[39m\u001b[32m34\u001b[39m     \u001b[38;5;28;01mraise\u001b[39;00m \u001b[38;5;167;01mException\u001b[39;00m(\u001b[33mf\u001b[39m\u001b[33m\"\u001b[39m\u001b[33mcard not playable: \u001b[39m\u001b[38;5;132;01m{\u001b[39;00mcard\u001b[38;5;132;01m}\u001b[39;00m\u001b[33m\"\u001b[39m)\n\u001b[32m     36\u001b[39m \u001b[38;5;28mself\u001b[39m.players[\u001b[38;5;28mself\u001b[39m.action_on].remove_from_hand(card)\n\u001b[32m     37\u001b[39m \u001b[38;5;28mself\u001b[39m.trick.append(card)\n",
      "\u001b[31mException\u001b[39m: card not playable: (5, swords)"
     ]
    }
   ],
   "source": [
    "env = BriscolaEnv()\n",
    "\n",
    "api_test(env, num_cycles=1_000_000)"
   ]
  }
 ],
 "metadata": {
  "kernelspec": {
   "display_name": ".venv",
   "language": "python",
   "name": "python3"
  },
  "language_info": {
   "codemirror_mode": {
    "name": "ipython",
    "version": 3
   },
   "file_extension": ".py",
   "mimetype": "text/x-python",
   "name": "python",
   "nbconvert_exporter": "python",
   "pygments_lexer": "ipython3",
   "version": "3.11.10"
  }
 },
 "nbformat": 4,
 "nbformat_minor": 2
}
