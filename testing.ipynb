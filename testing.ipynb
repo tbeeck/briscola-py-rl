{
 "cells": [
  {
   "cell_type": "code",
   "execution_count": 1,
   "metadata": {},
   "outputs": [],
   "source": [
    "from __future__ import annotations\n",
    "\n",
    "import glob\n",
    "import os\n",
    "import time\n",
    "\n",
    "from stable_baselines3 import PPO\n",
    "from stable_baselines3.ppo import CnnPolicy, MlpPolicy\n",
    "\n",
    "from pettingzoo.test import api_test\n",
    "from lib.briscola_env.briscola_env import BriscolaEnv"
   ]
  },
  {
   "cell_type": "code",
   "execution_count": 2,
   "metadata": {},
   "outputs": [
    {
     "name": "stdout",
     "output_type": "stream",
     "text": [
      "Starting API test\n"
     ]
    },
    {
     "ename": "AssertionError",
     "evalue": "The expected dtype of the mask is np.int8, actual dtype: uint8",
     "output_type": "error",
     "traceback": [
      "\u001b[31m---------------------------------------------------------------------------\u001b[39m",
      "\u001b[31mAssertionError\u001b[39m                            Traceback (most recent call last)",
      "\u001b[36mCell\u001b[39m\u001b[36m \u001b[39m\u001b[32mIn[2]\u001b[39m\u001b[32m, line 3\u001b[39m\n\u001b[32m      1\u001b[39m env = BriscolaEnv()\n\u001b[32m----> \u001b[39m\u001b[32m3\u001b[39m \u001b[43mapi_test\u001b[49m\u001b[43m(\u001b[49m\u001b[43menv\u001b[49m\u001b[43m,\u001b[49m\u001b[43m \u001b[49m\u001b[43mnum_cycles\u001b[49m\u001b[43m=\u001b[49m\u001b[32;43m1_000_000\u001b[39;49m\u001b[43m)\u001b[49m\n",
      "\u001b[36mFile \u001b[39m\u001b[32m~/src/briscola-py/.venv/lib/python3.11/site-packages/pettingzoo/test/api_test.py:625\u001b[39m, in \u001b[36mapi_test\u001b[39m\u001b[34m(env, num_cycles, verbose_progress)\u001b[39m\n\u001b[32m    621\u001b[39m test_observation_action_spaces(env, agent_0)\n\u001b[32m    623\u001b[39m progress_report(\u001b[33m\"\u001b[39m\u001b[33mFinished test_observation_action_spaces\u001b[39m\u001b[33m\"\u001b[39m)\n\u001b[32m--> \u001b[39m\u001b[32m625\u001b[39m \u001b[43mplay_test\u001b[49m\u001b[43m(\u001b[49m\u001b[43menv\u001b[49m\u001b[43m,\u001b[49m\u001b[43m \u001b[49m\u001b[43mobservation_0\u001b[49m\u001b[43m,\u001b[49m\u001b[43m \u001b[49m\u001b[43mnum_cycles\u001b[49m\u001b[43m)\u001b[49m\n\u001b[32m    627\u001b[39m progress_report(\u001b[33m\"\u001b[39m\u001b[33mFinished play test\u001b[39m\u001b[33m\"\u001b[39m)\n\u001b[32m    629\u001b[39m \u001b[38;5;28;01massert\u001b[39;00m \u001b[38;5;28misinstance\u001b[39m(env.rewards, \u001b[38;5;28mdict\u001b[39m), \u001b[33m\"\u001b[39m\u001b[33mrewards must be a dict\u001b[39m\u001b[33m\"\u001b[39m\n",
      "\u001b[36mFile \u001b[39m\u001b[32m~/src/briscola-py/.venv/lib/python3.11/site-packages/pettingzoo/test/api_test.py:456\u001b[39m, in \u001b[36mplay_test\u001b[39m\u001b[34m(env, observation_0, num_cycles)\u001b[39m\n\u001b[32m    454\u001b[39m     action = \u001b[38;5;28;01mNone\u001b[39;00m\n\u001b[32m    455\u001b[39m \u001b[38;5;28;01melif\u001b[39;00m \u001b[38;5;28misinstance\u001b[39m(prev_observe, \u001b[38;5;28mdict\u001b[39m) \u001b[38;5;129;01mand\u001b[39;00m \u001b[33m\"\u001b[39m\u001b[33maction_mask\u001b[39m\u001b[33m\"\u001b[39m \u001b[38;5;129;01min\u001b[39;00m prev_observe:\n\u001b[32m--> \u001b[39m\u001b[32m456\u001b[39m     action = \u001b[43menv\u001b[49m\u001b[43m.\u001b[49m\u001b[43maction_space\u001b[49m\u001b[43m(\u001b[49m\u001b[43magent\u001b[49m\u001b[43m)\u001b[49m\u001b[43m.\u001b[49m\u001b[43msample\u001b[49m\u001b[43m(\u001b[49m\u001b[43mprev_observe\u001b[49m\u001b[43m[\u001b[49m\u001b[33;43m\"\u001b[39;49m\u001b[33;43maction_mask\u001b[39;49m\u001b[33;43m\"\u001b[39;49m\u001b[43m]\u001b[49m\u001b[43m)\u001b[49m\n\u001b[32m    457\u001b[39m \u001b[38;5;28;01melif\u001b[39;00m \u001b[33m\"\u001b[39m\u001b[33maction_mask\u001b[39m\u001b[33m\"\u001b[39m \u001b[38;5;129;01min\u001b[39;00m info:\n\u001b[32m    458\u001b[39m     action = env.action_space(agent).sample(info[\u001b[33m\"\u001b[39m\u001b[33maction_mask\u001b[39m\u001b[33m\"\u001b[39m])\n",
      "\u001b[36mFile \u001b[39m\u001b[32m~/src/briscola-py/.venv/lib/python3.11/site-packages/gymnasium/spaces/discrete.py:77\u001b[39m, in \u001b[36mDiscrete.sample\u001b[39m\u001b[34m(self, mask)\u001b[39m\n\u001b[32m     72\u001b[39m \u001b[38;5;28;01mif\u001b[39;00m mask \u001b[38;5;129;01mis\u001b[39;00m \u001b[38;5;129;01mnot\u001b[39;00m \u001b[38;5;28;01mNone\u001b[39;00m:\n\u001b[32m     73\u001b[39m     \u001b[38;5;28;01massert\u001b[39;00m \u001b[38;5;28misinstance\u001b[39m(\n\u001b[32m     74\u001b[39m         mask, np.ndarray\n\u001b[32m     75\u001b[39m     ), \u001b[33mf\u001b[39m\u001b[33m\"\u001b[39m\u001b[33mThe expected type of the mask is np.ndarray, actual type: \u001b[39m\u001b[38;5;132;01m{\u001b[39;00m\u001b[38;5;28mtype\u001b[39m(mask)\u001b[38;5;132;01m}\u001b[39;00m\u001b[33m\"\u001b[39m\n\u001b[32m     76\u001b[39m     \u001b[38;5;28;01massert\u001b[39;00m (\n\u001b[32m---> \u001b[39m\u001b[32m77\u001b[39m         mask.dtype == np.int8\n\u001b[32m     78\u001b[39m     ), \u001b[33mf\u001b[39m\u001b[33m\"\u001b[39m\u001b[33mThe expected dtype of the mask is np.int8, actual dtype: \u001b[39m\u001b[38;5;132;01m{\u001b[39;00mmask.dtype\u001b[38;5;132;01m}\u001b[39;00m\u001b[33m\"\u001b[39m\n\u001b[32m     79\u001b[39m     \u001b[38;5;28;01massert\u001b[39;00m mask.shape == (\n\u001b[32m     80\u001b[39m         \u001b[38;5;28mself\u001b[39m.n,\n\u001b[32m     81\u001b[39m     ), \u001b[33mf\u001b[39m\u001b[33m\"\u001b[39m\u001b[33mThe expected shape of the mask is \u001b[39m\u001b[38;5;132;01m{\u001b[39;00m(\u001b[38;5;28mself\u001b[39m.n,)\u001b[38;5;132;01m}\u001b[39;00m\u001b[33m, actual shape: \u001b[39m\u001b[38;5;132;01m{\u001b[39;00mmask.shape\u001b[38;5;132;01m}\u001b[39;00m\u001b[33m\"\u001b[39m\n\u001b[32m     82\u001b[39m     valid_action_mask = mask == \u001b[32m1\u001b[39m\n",
      "\u001b[31mAssertionError\u001b[39m: The expected dtype of the mask is np.int8, actual dtype: uint8"
     ]
    }
   ],
   "source": [
    "env = BriscolaEnv()\n",
    "\n",
    "api_test(env, num_cycles=1_000_000)"
   ]
  }
 ],
 "metadata": {
  "kernelspec": {
   "display_name": ".venv",
   "language": "python",
   "name": "python3"
  },
  "language_info": {
   "codemirror_mode": {
    "name": "ipython",
    "version": 3
   },
   "file_extension": ".py",
   "mimetype": "text/x-python",
   "name": "python",
   "nbconvert_exporter": "python",
   "pygments_lexer": "ipython3",
   "version": "3.11.10"
  }
 },
 "nbformat": 4,
 "nbformat_minor": 2
}
