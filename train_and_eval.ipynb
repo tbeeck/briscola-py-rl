{
 "cells": [
  {
   "cell_type": "code",
   "execution_count": 1,
   "metadata": {},
   "outputs": [],
   "source": [
    "from __future__ import annotations\n",
    "\n",
    "import glob\n",
    "import os\n",
    "import time\n",
    "\n",
    "from pettingzoo.test import api_test\n",
    "import pettingzoo\n",
    "import gymnasium as gym\n",
    "\n",
    "from sb3_contrib import MaskablePPO\n",
    "from sb3_contrib.common.maskable.policies import MaskableActorCriticPolicy\n",
    "from sb3_contrib.common.wrappers import ActionMasker\n",
    "\n",
    "from lib.briscola_env.briscola_env import BriscolaEnv"
   ]
  },
  {
   "cell_type": "code",
   "execution_count": 2,
   "metadata": {},
   "outputs": [
    {
     "name": "stdout",
     "output_type": "stream",
     "text": [
      "Starting API test\n",
      "Passed API test\n"
     ]
    },
    {
     "name": "stderr",
     "output_type": "stream",
     "text": [
      "/home/tim/src/briscola-py/.venv/lib/python3.11/site-packages/pettingzoo/test/api_test.py:242: UserWarning: Observation space for each agent probably should be gymnasium.spaces.box or gymnasium.spaces.discrete\n",
      "  warnings.warn(\n",
      "/home/tim/src/briscola-py/.venv/lib/python3.11/site-packages/pettingzoo/test/api_test.py:140: UserWarning: Observation is not a NumPy array\n",
      "  warnings.warn(\"Observation is not a NumPy array\")\n",
      "/home/tim/src/briscola-py/.venv/lib/python3.11/site-packages/pettingzoo/test/api_test.py:660: UserWarning: Environment has not defined a render() method\n",
      "  warnings.warn(\"Environment has not defined a render() method\")\n"
     ]
    }
   ],
   "source": [
    "PLAYER_COUNT = 2\n",
    "NUM_TRAINING_STEPS = 1_000_000\n",
    "NUM_EVAL_GAMES = 1000\n",
    "\n",
    "\n",
    "def make_env():\n",
    "\treturn BriscolaEnv(num_players=PLAYER_COUNT)\n",
    "\n",
    "api_test(make_env(), num_cycles=1000)\n"
   ]
  },
  {
   "cell_type": "code",
   "execution_count": 3,
   "metadata": {},
   "outputs": [],
   "source": [
    "# To pass into other gymnasium wrappers, we need to ensure that pettingzoo's wrappper\n",
    "# can also be a gymnasium Env. Thus, we subclass under gym.Env as well.\n",
    "class SB3ActionMaskWrapper(pettingzoo.utils.BaseWrapper, gym.Env):\n",
    "    \"\"\"Wrapper to allow PettingZoo environments to be used with SB3 illegal action masking.\"\"\"\n",
    "\n",
    "    def reset(self, seed=None, options=None):\n",
    "        \"\"\"Gymnasium-like reset function which assigns obs/action spaces to be the same for each agent.\n",
    "\n",
    "        This is required as SB3 is designed for single-agent RL and doesn't expect obs/action spaces to be functions\n",
    "        \"\"\"\n",
    "        super().reset(seed, options)\n",
    "\n",
    "        # Strip the action mask out from the observation space\n",
    "        self.observation_space = super().observation_space(self.possible_agents[0])[\n",
    "            \"observation\"\n",
    "        ]\n",
    "        self.action_space = super().action_space(self.possible_agents[0])\n",
    "\n",
    "        # Return initial observation, info (PettingZoo AEC envs do not by default)\n",
    "        return self.observe(self.agent_selection), {}\n",
    "\n",
    "    def step(self, action):\n",
    "        \"\"\"Gymnasium-like step function, returning observation, reward, termination, truncation, info.\n",
    "\n",
    "        The observation is for the next agent (used to determine the next action), while the remaining\n",
    "        items are for the agent that just acted (used to understand what just happened).\n",
    "        \"\"\"\n",
    "        current_agent = self.agent_selection\n",
    "\n",
    "        super().step(action)\n",
    "\n",
    "        next_agent = self.agent_selection\n",
    "        return (\n",
    "            self.observe(next_agent),\n",
    "            self._cumulative_rewards[current_agent],\n",
    "            self.terminations[current_agent],\n",
    "            self.truncations[current_agent],\n",
    "            self.infos[current_agent],\n",
    "        )\n",
    "\n",
    "    def observe(self, agent):\n",
    "        \"\"\"Return only raw observation, removing action mask.\"\"\"\n",
    "        return super().observe(agent)[\"observation\"]\n",
    "\n",
    "    def action_mask(self):\n",
    "        \"\"\"Separate function used in order to access the action mask.\"\"\"\n",
    "        return super().observe(self.agent_selection)[\"action_mask\"]"
   ]
  },
  {
   "cell_type": "code",
   "execution_count": 4,
   "metadata": {},
   "outputs": [],
   "source": [
    "def mask_fn(env):\n",
    "    return env.action_mask()\n",
    "\n",
    "def train(\n",
    "    steps: int = 10_000, seed: int | None = 0, **env_kwargs\n",
    "):\n",
    "    # Train a single model to play as each agent in a cooperative Parallel environment\n",
    "    env = make_env()\n",
    "    env = SB3ActionMaskWrapper(env)\n",
    "    env.reset(seed=seed)\n",
    "    env = ActionMasker(env, mask_fn)\n",
    "\n",
    "    print(f\"Starting training on {str(env.metadata)}.\")\n",
    "    model = MaskablePPO(\n",
    "        MaskableActorCriticPolicy, \n",
    "        env, \n",
    "        verbose=1,\n",
    "        learning_rate=3e-4,\n",
    "        ent_coef=0.001,\n",
    "        vf_coef=0.6, \n",
    "    )\n",
    "    model.set_random_seed(seed)\n",
    "    model.learn(total_timesteps=steps)\n",
    "    model.save(f\"{env.unwrapped.metadata.get('name')}_{time.strftime('%Y%m%d-%H%M%S')}\")\n",
    "\n",
    "    print(\"Model has been saved.\")\n",
    "    print(f\"Finished training on {str(env.unwrapped.metadata['name'])}.\\n\")\n",
    "    env.close()\n",
    "\n"
   ]
  },
  {
   "cell_type": "code",
   "execution_count": null,
   "metadata": {},
   "outputs": [
    {
     "name": "stdout",
     "output_type": "stream",
     "text": [
      "Starting training on {'render_modes': []}.\n",
      "Using cuda device\n",
      "Wrapping the env with a `Monitor` wrapper\n",
      "Wrapping the env in a DummyVecEnv.\n",
      "---------------------------------\n",
      "| rollout/           |          |\n",
      "|    ep_len_mean     | 40       |\n",
      "|    ep_rew_mean     | 1.23e+03 |\n",
      "| time/              |          |\n",
      "|    fps             | 322      |\n",
      "|    iterations      | 1        |\n",
      "|    time_elapsed    | 6        |\n",
      "|    total_timesteps | 2048     |\n",
      "---------------------------------\n",
      "------------------------------------------\n",
      "| rollout/                |              |\n",
      "|    ep_len_mean          | 40           |\n",
      "|    ep_rew_mean          | 1.25e+03     |\n",
      "| time/                   |              |\n",
      "|    fps                  | 249          |\n",
      "|    iterations           | 2            |\n",
      "|    time_elapsed         | 16           |\n",
      "|    total_timesteps      | 4096         |\n",
      "| train/                  |              |\n",
      "|    approx_kl            | 0.0013367943 |\n",
      "|    clip_fraction        | 4.88e-05     |\n",
      "|    clip_range           | 0.2          |\n",
      "|    entropy_loss         | -1.02        |\n",
      "|    explained_variance   | -0.000358    |\n",
      "|    learning_rate        | 0.0003       |\n",
      "|    loss                 | 1.09e+05     |\n",
      "|    n_updates            | 10           |\n",
      "|    policy_gradient_loss | -0.00444     |\n",
      "|    value_loss           | 1.7e+05      |\n",
      "------------------------------------------\n",
      "------------------------------------------\n",
      "| rollout/                |              |\n",
      "|    ep_len_mean          | 40           |\n",
      "|    ep_rew_mean          | 1.27e+03     |\n",
      "| time/                   |              |\n",
      "|    fps                  | 242          |\n",
      "|    iterations           | 3            |\n",
      "|    time_elapsed         | 25           |\n",
      "|    total_timesteps      | 6144         |\n",
      "| train/                  |              |\n",
      "|    approx_kl            | 0.0013055073 |\n",
      "|    clip_fraction        | 0            |\n",
      "|    clip_range           | 0.2          |\n",
      "|    entropy_loss         | -1.02        |\n",
      "|    explained_variance   | 0.000346     |\n",
      "|    learning_rate        | 0.0003       |\n",
      "|    loss                 | 1.12e+05     |\n",
      "|    n_updates            | 20           |\n",
      "|    policy_gradient_loss | -0.00441     |\n",
      "|    value_loss           | 1.77e+05     |\n",
      "------------------------------------------\n"
     ]
    }
   ],
   "source": [
    "train(steps=NUM_TRAINING_STEPS)"
   ]
  },
  {
   "cell_type": "code",
   "execution_count": null,
   "metadata": {},
   "outputs": [],
   "source": [
    "def make_results(agents, wins, total_rewards):\n",
    "    player_results = []\n",
    "    print(\"Winrates:\")\n",
    "    for p in agents:\n",
    "        if sum(wins.values()) > 0:\n",
    "            winrate = wins[p] / sum(wins.values())\n",
    "        print(f\"\\t{p}: {winrate*100}%\")\n",
    "        print(f\"\\tWins: {wins[p]} Rewards: {total_rewards[p]}\")\n",
    "        player_results.append({\"winrate\": winrate, \"total_rewards\": total_rewards[p]})\n",
    "    return player_results\n",
    "\n",
    "def eval_action_mask(player, num_games=100):\n",
    "    # Evaluate a trained agent vs a random agent\n",
    "    env = make_env()\n",
    "    print(\"Starting evaluation vs random agents.\")\n",
    "    if player != -1:\n",
    "        print(f\"Trained agent will play as {env.possible_agents[player]}\")\n",
    "    try:\n",
    "        latest_policy = max(\n",
    "            glob.glob(f\"{env.metadata['name']}*.zip\"), key=os.path.getctime\n",
    "        )\n",
    "    except ValueError:\n",
    "        print(\"Policy not found.\")\n",
    "        raise\n",
    "    print(\"Using policy:\", latest_policy)\n",
    "    model = MaskablePPO.load(latest_policy)\n",
    "\n",
    "    wins = {agent: 0 for agent in env.possible_agents}\n",
    "    total_rewards = {agent: 0 for agent in env.possible_agents}\n",
    "    for i in range(num_games):\n",
    "        env.reset(seed=i)\n",
    "        for agent in env.agent_iter():\n",
    "            obs, reward, termination, truncation, info = env.last()\n",
    "            observation, action_mask = obs.values()\n",
    "            if termination or truncation:\n",
    "                winner = max(env.rewards, key=env.rewards.get)\n",
    "                wins[winner] += env.infos[winner][\"wins\"] \n",
    "                for a in env.possible_agents:\n",
    "                    total_rewards[a] += env.rewards[a]\n",
    "                break\n",
    "            else:\n",
    "                # Act randomly unless it's the agents turn\n",
    "                if agent != env.possible_agents[player] or player == -1:\n",
    "                    act = env.action_space(agent).sample(action_mask)\n",
    "                else:\n",
    "                    act = int(\n",
    "                        model.predict(\n",
    "                            observation, action_masks=action_mask, deterministic=True\n",
    "                        )[0]\n",
    "                    )\n",
    "            env.step(act)\n",
    "    env.close()\n",
    "    return make_results(env.agents, wins, total_rewards)\n"
   ]
  },
  {
   "cell_type": "code",
   "execution_count": null,
   "metadata": {},
   "outputs": [
    {
     "name": "stdout",
     "output_type": "stream",
     "text": [
      "Starting evaluation vs random agents.\n",
      "Using policy: briscola_20250428-210345.zip\n",
      "Winrates:\n",
      "\tplayer_0: 57.8%\n",
      "\tWins: 578 Rewards: 134648\n",
      "\tplayer_1: 42.199999999999996%\n",
      "\tWins: 422 Rewards: 105352\n",
      "Starting evaluation vs random agents.\n",
      "Trained agent will play as player_0\n",
      "Using policy: briscola_20250428-210345.zip\n",
      "Winrates:\n",
      "\tplayer_0: 55.900000000000006%\n",
      "\tWins: 559 Rewards: 131044\n",
      "\tplayer_1: 44.1%\n",
      "\tWins: 441 Rewards: 108956\n",
      "Starting evaluation vs random agents.\n",
      "Trained agent will play as player_1\n",
      "Using policy: briscola_20250428-210345.zip\n",
      "Winrates:\n",
      "\tplayer_0: 60.199999999999996%\n",
      "\tWins: 602 Rewards: 138341\n",
      "\tplayer_1: 39.800000000000004%\n",
      "\tWins: 398 Rewards: 101659\n"
     ]
    }
   ],
   "source": [
    "\n",
    "baseline_results = eval_action_mask(-1, num_games=NUM_EVAL_GAMES)\n",
    "results_by_position = []\n",
    "for position in range(PLAYER_COUNT):\n",
    "\tresults_by_position.append(eval_action_mask(position, num_games=NUM_EVAL_GAMES))"
   ]
  },
  {
   "cell_type": "code",
   "execution_count": null,
   "metadata": {},
   "outputs": [],
   "source": [
    "import matplotlib.pyplot as plt\n",
    "import numpy as np\n",
    "\n",
    "def make_plot(winrate_data, title):\n",
    "\twinrates = np.transpose(np.array([\n",
    "\t\t[entry['winrate'] for entry in sublist] \n",
    "\t\tfor sublist in winrate_data\n",
    "   \t]))\n",
    "\tprint(winrate_data, winrates)\n",
    "\t# Plot\n",
    "\tfig, ax = plt.subplots(figsize=(8, 6))\n",
    "\n",
    "\t# How many groups and bars\n",
    "\tnum_positions, num_players = winrates.shape\n",
    "\tx = np.arange(num_players)\n",
    "\n",
    "\t# Width of each bar group\n",
    "\tbar_width = 0.2\n",
    "\t\n",
    "\t# Plot each group's bars\n",
    "\tfor i in range(num_positions):\n",
    "\t\tax.bar(x + i * bar_width, winrates[i], width=bar_width, label=f'Player {i}')\n",
    "\n",
    "\t# Labels and stuff\n",
    "\tax.set_xlabel('Model Position')\n",
    "\tax.set_ylabel('Winrate')\n",
    "\tax.set_title(title)\n",
    "\tax.set_xticks(x + bar_width * (num_positions-1) / 2)\n",
    "\tax.set_xticklabels([str(i) for i in range(num_players)])\n",
    "\tax.legend()\n",
    "\n",
    "\tplt.tight_layout()\n",
    "\tplt.show()\n",
    "\tplt.close(fig)\n"
   ]
  },
  {
   "cell_type": "code",
   "execution_count": null,
   "metadata": {},
   "outputs": [
    {
     "name": "stdout",
     "output_type": "stream",
     "text": [
      "[[{'winrate': 0.578, 'total_rewards': 134648}, {'winrate': 0.422, 'total_rewards': 105352}]] [[0.578]\n",
      " [0.422]]\n"
     ]
    },
    {
     "data": {
      "image/png": "[encoded data removed]",
      "text/plain": [
       "<Figure size 800x600 with 1 Axes>"
      ]
     },
     "metadata": {},
     "output_type": "display_data"
    },
    {
     "name": "stdout",
     "output_type": "stream",
     "text": [
      "[[{'winrate': 0.559, 'total_rewards': 131044}, {'winrate': 0.441, 'total_rewards': 108956}], [{'winrate': 0.602, 'total_rewards': 138341}, {'winrate': 0.398, 'total_rewards': 101659}]] [[0.559 0.602]\n",
      " [0.441 0.398]]\n"
     ]
    },
    {
     "data": {
      "image/png": "[encoded data removed]",
      "text/plain": [
       "<Figure size 800x600 with 1 Axes>"
      ]
     },
     "metadata": {},
     "output_type": "display_data"
    }
   ],
   "source": [
    "make_plot([baseline_results], \"All random policy\")\n",
    "make_plot(results_by_position, \"Winrates by Model player position\")"
   ]
  }
 ],
 "metadata": {
  "kernelspec": {
   "display_name": ".venv",
   "language": "python",
   "name": "python3"
  },
  "language_info": {
   "codemirror_mode": {
    "name": "ipython",
    "version": 3
   },
   "file_extension": ".py",
   "mimetype": "text/x-python",
   "name": "python",
   "nbconvert_exporter": "python",
   "pygments_lexer": "ipython3",
   "version": "3.11.10"
  }
 },
 "nbformat": 4,
 "nbformat_minor": 2
}
