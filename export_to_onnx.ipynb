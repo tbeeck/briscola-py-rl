{
 "cells": [
  {
   "cell_type": "code",
   "execution_count": null,
   "id": "2045d2f6",
   "metadata": {},
   "outputs": [],
   "source": [
    "import torch as th\n",
    "import numpy as np\n",
    "import onnx\n",
    "import onnxruntime as ort\n",
    "\n",
    "from sb3_contrib import MaskablePPO\n",
    "\n",
    "from lib.onnxable import OnnxableMaskableACPolicy\n",
    "from lib.briscola.game import BriscolaGame\n",
    "from lib.briscola_env.embedding import game_embedding"
   ]
  },
  {
   "cell_type": "code",
   "execution_count": null,
   "id": "4359c850",
   "metadata": {},
   "outputs": [],
   "source": [
    "# Load select model\n",
    "model_name = \"models/briscola_4p_1M_20250501-181557\"\n",
    "model_source_file = f\"{model_name}.zip\"\n",
    "model_dest_file = f\"{model_name}-probdist.onnx\"\n",
    "\n",
    "model = MaskablePPO.load(model_source_file, device=\"cpu\")\n",
    "onnx_policy = OnnxableMaskableACPolicy(model.policy)\n",
    "\n",
    "observation_size = model.observation_space.shape\n",
    "dummy_input = th.randn(1, *observation_size)\n",
    "th.onnx.export(\n",
    "    onnx_policy,\n",
    "    dummy_input,\n",
    "    model_dest_file,\n",
    "    opset_version=17,\n",
    "    input_names=[\"input\"],\n",
    "\toutput_names=[\"dist\", \"values\"]\n",
    ")"
   ]
  },
  {
   "cell_type": "code",
   "execution_count": 3,
   "id": "1ebcbfc6",
   "metadata": {},
   "outputs": [],
   "source": [
    "game = BriscolaGame(players=4)"
   ]
  },
  {
   "cell_type": "code",
   "execution_count": 4,
   "id": "600f7bfc",
   "metadata": {},
   "outputs": [
    {
     "name": "stdout",
     "output_type": "stream",
     "text": [
      "[[ 0.  0.  0.  1.  0.  0.  0.  0.  0.  0.  0.  0.  0.  0.  0.  0.  1.  0.\n",
      "   0.  1.  0.  0.  0.  0.  0.  0.  0.  0.  0.  0.  0.  0.  0.  0.  0.  0.\n",
      "   0.  0.  0.  0.  0.  0.  0.  0. 23.  2.  1.  1.  1.  1.  1.  1.  1.  1.\n",
      "   1.  1.  1.  1.  1.  1.  1.  1.  1.  1.  1.  1.  1.  1.  1.  0.  1.  1.\n",
      "   1.  1.  1.  1.  1.  1.  1.  1.  1.  1.  1.  1.  1.  1.]]\n",
      "Inputs:\n",
      "\t NodeArg(name='input', type='tensor(float)', shape=[1, 86])\n",
      "Outputs\n",
      "\t NodeArg(name='actions', type='tensor(float)', shape=[1, 40])\n",
      "\t NodeArg(name='values', type='tensor(float)', shape=[1, 1])\n",
      "[[1.03327498e-01 1.14174532e-02 1.54052451e-01 1.30279353e-04\n",
      "  3.21751507e-03 4.33949870e-04 2.25688703e-03 4.66828700e-03\n",
      "  9.19541810e-03 2.50689834e-02 7.70970881e-02 6.42255647e-04\n",
      "  1.05952196e-01 1.47218263e-04 5.64788410e-04 3.09772906e-04\n",
      "  2.34098849e-03 3.41040851e-03 5.85791562e-03 2.80531533e-02\n",
      "  1.30125031e-01 3.34504788e-04 7.50642866e-02 3.25879053e-04\n",
      "  6.17327925e-04 9.32262265e-05 8.56808096e-04 2.22337572e-03\n",
      "  5.02975611e-03 1.14357006e-02 9.49101448e-02 1.13318265e-05\n",
      "  1.30177170e-01 2.57122476e-04 7.35096910e-05 4.43299032e-05\n",
      "  5.75216145e-05 1.55065884e-03 5.25000505e-03 3.41780763e-03]] [[203.68645]]\n",
      "(tensor([2]), tensor([[203.6865]]), tensor([-1.8705]))\n"
     ]
    }
   ],
   "source": [
    "# Load and test model\n",
    "onnx_model = onnx.load(model_dest_file)\n",
    "onnx.checker.check_model(onnx_model)\n",
    "\n",
    "observation = np.array([game_embedding(game, 0)], dtype=np.float32)\n",
    "\n",
    "np.reshape(observation, (1, 86))\n",
    "print(observation)\n",
    "ort_sess = ort.InferenceSession(model_dest_file)\n",
    "\n",
    "print(\"Inputs:\")\n",
    "for i in ort_sess.get_inputs():\n",
    "    print(\"\\t\", i)\n",
    "\n",
    "\n",
    "print(\"Outputs\")\n",
    "for out in ort_sess.get_outputs():\n",
    "    print(\"\\t\", out)\n",
    "\n",
    "# Check that the predictions are the same\n",
    "actions, values = ort_sess.run(None, {\"input\": observation})\n",
    "print(actions, values)\n",
    "with th.no_grad():\n",
    "    print(model.policy(th.as_tensor(observation), deterministic=True))"
   ]
  }
 ],
 "metadata": {
  "kernelspec": {
   "display_name": ".venv",
   "language": "python",
   "name": "python3"
  },
  "language_info": {
   "codemirror_mode": {
    "name": "ipython",
    "version": 3
   },
   "file_extension": ".py",
   "mimetype": "text/x-python",
   "name": "python",
   "nbconvert_exporter": "python",
   "pygments_lexer": "ipython3",
   "version": "3.11.10"
  }
 },
 "nbformat": 4,
 "nbformat_minor": 5
}
