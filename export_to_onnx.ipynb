{
 "cells": [
  {
   "cell_type": "code",
   "execution_count": 1,
   "id": "2045d2f6",
   "metadata": {},
   "outputs": [],
   "source": [
    "import torch as th\n",
    "import numpy as np\n",
    "import onnx\n",
    "import onnxruntime as ort\n",
    "\n",
    "from sb3_contrib import MaskablePPO\n",
    "\n",
    "from lib.briscola_env.embedding import EMBEDDING_SHAPE\n",
    "from lib.onnxable import OnnxableSB3Policy"
   ]
  },
  {
   "cell_type": "code",
   "execution_count": 2,
   "id": "4359c850",
   "metadata": {},
   "outputs": [],
   "source": [
    "# Load select model\n",
    "model_name = \"models/briscola_4p_1M_20250501-181557\"\n",
    "model_source_file = f\"{model_name}.zip\"\n",
    "model_dest_file = f\"{model_name}.onnx\"\n",
    "\n",
    "model = MaskablePPO.load(model_source_file, device=\"cpu\")\n",
    "\n",
    "onnx_policy = OnnxableSB3Policy(model.policy)\n",
    "\n",
    "observation_size = model.observation_space.shape\n",
    "dummy_input = th.randn(1, *observation_size)\n",
    "th.onnx.export(\n",
    "    onnx_policy,\n",
    "    dummy_input,\n",
    "    model_dest_file,\n",
    "    opset_version=17,\n",
    "    input_names=[\"input\"],\n",
    ")"
   ]
  },
  {
   "cell_type": "code",
   "execution_count": 3,
   "id": "600f7bfc",
   "metadata": {},
   "outputs": [
    {
     "name": "stdout",
     "output_type": "stream",
     "text": [
      "[2] [[-12.487151]] [-3.3847802]\n",
      "(tensor([2]), tensor([[-12.4871]]), tensor([-3.3848]))\n"
     ]
    }
   ],
   "source": [
    "# Load and test model\n",
    "onnx_model = onnx.load(model_dest_file)\n",
    "onnx.checker.check_model(onnx_model)\n",
    "\n",
    "observation = np.zeros((1, *observation_size)).astype(np.float32)\n",
    "ort_sess = ort.InferenceSession(model_dest_file)\n",
    "\n",
    "# Check that the predictions are the same\n",
    "actions, values, log_prob = ort_sess.run(None, {\"input\": observation})\n",
    "print(actions, values, log_prob)\n",
    "with th.no_grad():\n",
    "    print(model.policy(th.as_tensor(observation), deterministic=True))"
   ]
  }
 ],
 "metadata": {
  "kernelspec": {
   "display_name": ".venv",
   "language": "python",
   "name": "python3"
  },
  "language_info": {
   "codemirror_mode": {
    "name": "ipython",
    "version": 3
   },
   "file_extension": ".py",
   "mimetype": "text/x-python",
   "name": "python",
   "nbconvert_exporter": "python",
   "pygments_lexer": "ipython3",
   "version": "3.11.10"
  }
 },
 "nbformat": 4,
 "nbformat_minor": 5
}
